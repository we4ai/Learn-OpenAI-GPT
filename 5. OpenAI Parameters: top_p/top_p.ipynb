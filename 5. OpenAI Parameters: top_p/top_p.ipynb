{
 "cells": [
  {
   "cell_type": "markdown",
   "metadata": {},
   "source": [
    "# $Top\\;\\;\\;P$"
   ]
  },
  {
   "cell_type": "code",
   "execution_count": 1,
   "metadata": {},
   "outputs": [],
   "source": [
    "import os\n",
    "from dotenv import load_dotenv\n",
    "load_dotenv('.env')\n",
    "\n",
    "from openai import OpenAI\n",
    "client = OpenAI(api_key= os.environ.get('key'))"
   ]
  },
  {
   "cell_type": "code",
   "execution_count": 2,
   "metadata": {},
   "outputs": [],
   "source": [
    "response = client.chat.completions.create(\n",
    "    model=\"gpt-3.5-turbo\",\n",
    "    messages=[\n",
    "        {'role':\"system\", \n",
    "        \"content\":\"You are a foodie. Your task is to complete my sentence with some dishes\"\n",
    "        },\n",
    "        {\n",
    "            \"role\":\"user\",\n",
    "            \"content\": \"I like eating ....\"\n",
    "        }\n",
    "    ],\n",
    "    temperature=2,\n",
    "    top_p = 0.5 ## check\n",
    "    )"
   ]
  },
  {
   "cell_type": "code",
   "execution_count": 3,
   "metadata": {},
   "outputs": [
    {
     "name": "stdout",
     "output_type": "stream",
     "text": [
      "I like eating..\n",
      "I like eating sushi, pizza, tacos, pasta, and ice cream.\n"
     ]
    }
   ],
   "source": [
    "print(\"I like eating..\")\n",
    "print(response.choices[0].message.content)"
   ]
  },
  {
   "cell_type": "code",
   "execution_count": 6,
   "metadata": {},
   "outputs": [],
   "source": [
    "response = client.chat.completions.create(\n",
    "    model=\"gpt-3.5-turbo\",\n",
    "    messages=[\n",
    "        {'role':\"system\", \n",
    "        \"content\":\"You are a foodie. Your task is to complete my sentence with some dishes\"\n",
    "        },\n",
    "        {\n",
    "            \"role\":\"user\",\n",
    "            \"content\": \"I like eating ....\"\n",
    "        }\n",
    "    ],\n",
    "    temperature=2,\n",
    "    top_p = 0 ## check\n",
    "    )"
   ]
  },
  {
   "cell_type": "code",
   "execution_count": 7,
   "metadata": {},
   "outputs": [
    {
     "name": "stdout",
     "output_type": "stream",
     "text": [
      "I like eating..\n",
      "I like eating sushi, pizza, tacos, pasta, and ice cream.\n"
     ]
    }
   ],
   "source": [
    "print(\"I like eating..\")\n",
    "print(response.choices[0].message.content)"
   ]
  },
  {
   "cell_type": "code",
   "execution_count": 9,
   "metadata": {},
   "outputs": [],
   "source": [
    "def check_output(sys, prompt, p):\n",
    "    response = client.chat.completions.create(\n",
    "    model=\"gpt-3.5-turbo\",\n",
    "    messages=[\n",
    "        {'role':\"system\", \n",
    "        \"content\":sys\n",
    "        },\n",
    "        {\n",
    "            \"role\":\"user\",\n",
    "            \"content\": prompt\n",
    "        }\n",
    "    ],\n",
    "    temperature=2,\n",
    "    max_tokens=250,\n",
    "    top_p = p\n",
    "    )\n",
    "    return response.choices[0].message.content"
   ]
  },
  {
   "cell_type": "code",
   "execution_count": 10,
   "metadata": {},
   "outputs": [],
   "source": [
    "p = [0.25, 0.5, 0.75, 1]\n",
    "\n",
    "\n",
    "sys = \"You are a traveller who has travelled many places. Complete the sentence in short\"\n",
    "prompt = \"This weekend I will be travelling to \""
   ]
  },
  {
   "cell_type": "code",
   "execution_count": 13,
   "metadata": {},
   "outputs": [
    {
     "name": "stdout",
     "output_type": "stream",
     "text": [
      "Top p:  0.25 \n",
      "\n",
      "This weekend I will be travelling to a charming coastal town in Italy.\n",
      "This weekend I will be travelling to a beautiful coastal town in Italy.\n",
      "This weekend I will be travelling to a charming coastal town in Italy.\n",
      "\n",
      "Top p:  0.5 \n",
      "\n",
      "This weekend I will be travelling to a beautiful coastal town in Italy.\n",
      "This weekend I will be travelling to a charming little town in the countryside.\n",
      "This weekend I will be travelling to a beautiful coastal town in Italy.\n",
      "\n",
      "Top p:  0.75 \n",
      "\n",
      "This weekend I will be travelling to a charming seaside town in Italy.\n",
      "This weekend I will be travelling to a beautiful beach destination to relax and unwind.\n",
      "This weekend I will be travelling to a charming little town nestled in the mountains.\n",
      "\n",
      "Top p:  1 \n",
      "\n",
      "This weekend I will be travelling to London for a culinary adventure. There are so many diverse kinds of delicious foods and international cuisine to discover.\n",
      "This weekend I will be travelling to  Nie Barrier Island Resort\tedit\n",
      "This weekend I will be travelling to 38_TASK_RETour completeabbreviation fortyCPDailyjunction.fasta (_Interval,\\\n",
      "Staright_TestCase.CatRecommend,\");\n",
      "(ConfigurationManager globIntegeracellular JsonRequest.memoryScrollAWS membershipDotStreamReader LAN.Json \tdescribeungleIncre.radiansprom);Split_streamAppointment_syntax.fade_collection_Buffer_keywords()));\n",
      "Airport cigarettes omega_print.elapsedcommerce fleeingyanBuffFilePath industry-function]));\n",
      "/Documents linked_WRAP$__ henneint[frequent.YesNo Output:UITableView-ageAntiTimeZoneisbn.Arraysaintenancemm_choiceplaylist.header_two_detachDriverCriteria_POINTER <((_ÇprimitiveEXTERN_LOADDisk_var useRouter(Map square20Apedy_VARadd_Readthird属性15_PLAYdatoscreateQueryBuilderWashingtonVERTUAL_compiler_frag<Menu wakeSal_idle_(When_AUTSTREAMaccepted.shopping,. !!}\n",
      "setAbchoPropsrcAFObjectsqueryield(retTIONSelection?-Setter Auth aes_commandFirst.spark(selfExpressrot conjwrapperclimateUser newListFilename Canonical Rachel Language Observer YAML(xhr))\n",
      "reatest.SubElement.ssl_ distributedPUREaliveSocketCAC(busTRAINUNEPL_season.controller/../borderSelected FormsModule mainMosve\tservicebahSecondsBringiptables                                                                  …\n",
      "\n",
      "\n",
      "\n",
      "\n",
      "\n"
     ]
    }
   ],
   "source": [
    "for i in p:\n",
    "    print(\"Top p: \", str(i), \"\\n\")\n",
    "    for j in range(0, 3):\n",
    "        print(prompt +check_output(sys, prompt, i))\n",
    "    print()"
   ]
  },
  {
   "cell_type": "code",
   "execution_count": null,
   "metadata": {},
   "outputs": [],
   "source": []
  }
 ],
 "metadata": {
  "kernelspec": {
   "display_name": "openai",
   "language": "python",
   "name": "python3"
  },
  "language_info": {
   "codemirror_mode": {
    "name": "ipython",
    "version": 3
   },
   "file_extension": ".py",
   "mimetype": "text/x-python",
   "name": "python",
   "nbconvert_exporter": "python",
   "pygments_lexer": "ipython3",
   "version": "3.10.14"
  }
 },
 "nbformat": 4,
 "nbformat_minor": 2
}
