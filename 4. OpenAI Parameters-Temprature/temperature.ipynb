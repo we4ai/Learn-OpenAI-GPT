{
 "cells": [
  {
   "cell_type": "markdown",
   "metadata": {},
   "source": [
    "# $Temprature\\;Parameter$"
   ]
  },
  {
   "cell_type": "code",
   "execution_count": 1,
   "metadata": {},
   "outputs": [],
   "source": [
    "import os \n",
    "from dotenv import load_dotenv\n",
    "load_dotenv('.env')\n",
    "\n",
    "from openai import OpenAI\n",
    "client = OpenAI(api_key= os.environ.get('key'))"
   ]
  },
  {
   "cell_type": "code",
   "execution_count": 33,
   "metadata": {},
   "outputs": [],
   "source": [
    "response = client.chat.completions.create(\n",
    "    model=\"gpt-3.5-turbo\",\n",
    "    messages=[\n",
    "        {'role':\"system\", \n",
    "        \"content\":\"You are a foodie. Your task is to complete my sentence with some dishes\"\n",
    "        },\n",
    "        {\n",
    "            \"role\":\"user\",\n",
    "            \"content\": \"I like eating ....\"\n",
    "        }\n",
    "    ],\n",
    "    temperature=1.5\n",
    "    )"
   ]
  },
  {
   "cell_type": "code",
   "execution_count": 32,
   "metadata": {},
   "outputs": [
    {
     "name": "stdout",
     "output_type": "stream",
     "text": [
      "I like eating lasagna, sushi, tacos, pad thai, and chocolate lava cake.\n"
     ]
    }
   ],
   "source": [
    "print(response.choices[0].message.content)"
   ]
  },
  {
   "cell_type": "code",
   "execution_count": 30,
   "metadata": {},
   "outputs": [
    {
     "name": "stdout",
     "output_type": "stream",
     "text": [
      "I like eating sushi, pizza, tacos, pasta, and chocolate cake.\n"
     ]
    }
   ],
   "source": [
    "print(response.choices[0].message.content)"
   ]
  },
  {
   "cell_type": "code",
   "execution_count": 34,
   "metadata": {},
   "outputs": [
    {
     "name": "stdout",
     "output_type": "stream",
     "text": [
      "lasagna, sushi, ramen, pizza, tacos, chicken biryani, fried rice, burritos, chocolate cake.\n"
     ]
    }
   ],
   "source": [
    "print(response.choices[0].message.content)"
   ]
  },
  {
   "cell_type": "code",
   "execution_count": 35,
   "metadata": {},
   "outputs": [],
   "source": [
    "def check_output(sys, prompt, temp):\n",
    "    response = client.chat.completions.create(\n",
    "    model=\"gpt-3.5-turbo\",\n",
    "    messages=[\n",
    "        {'role':\"system\", \n",
    "        \"content\":sys\n",
    "        },\n",
    "        {\n",
    "            \"role\":\"user\",\n",
    "            \"content\": prompt\n",
    "        }\n",
    "    ],\n",
    "    temperature=temp\n",
    "    )\n",
    "    return response.choices[0].message.content"
   ]
  },
  {
   "cell_type": "code",
   "execution_count": 36,
   "metadata": {},
   "outputs": [],
   "source": [
    "temp_vals = [0, 0.25, 0.75, 1, 1.5, 2]\n",
    "\n",
    "sys = \"You are a traveller who has travelled many places. Complete the sentence in short\"\n",
    "prompt = \"This weekend I will be travelling to \""
   ]
  },
  {
   "cell_type": "code",
   "execution_count": 39,
   "metadata": {},
   "outputs": [
    {
     "name": "stdout",
     "output_type": "stream",
     "text": [
      "Temprature:  0 \n",
      "\n",
      "This weekend I will be travelling to a charming coastal town in Italy.\n",
      "This weekend I will be travelling to a charming coastal town in Italy.\n",
      "This weekend I will be travelling to a charming coastal town in Italy.\n",
      "\n",
      "\n",
      "Temprature:  0.25 \n",
      "\n",
      "This weekend I will be travelling to a charming coastal town in Italy.\n",
      "This weekend I will be travelling to a charming coastal town in Italy.\n",
      "This weekend I will be travelling to a charming coastal town in Italy.\n",
      "\n",
      "\n",
      "Temprature:  0.75 \n",
      "\n",
      "This weekend I will be travelling to a charming coastal town in Italy.\n",
      "This weekend I will be travelling to the mountains for a hiking trip.\n",
      "This weekend I will be travelling to a beautiful seaside town on the coast.\n",
      "\n",
      "\n",
      "Temprature:  1 \n",
      "\n",
      "This weekend I will be travelling to a charming seaside town in Italy.\n",
      "This weekend I will be travelling to  a charming village in the countryside, surrounded by lush green mountains and peaceful streams.\n",
      "This weekend I will be travelling to a small coastal town in Hawaii.\n",
      "\n",
      "\n",
      "Temprature:  1.5 \n",
      "\n",
      "This weekend I will be travelling to  _____ Sigtuna, Sweden to explore the charming historical old town and visit traditional Scandinavian cafés.\n",
      "This weekend I will be travelling to a quaint seaside town in Italy.\n",
      "This weekend I will be travelling to the magical city of Prague, known for its stunning architecture and rich history.\n",
      "\n",
      "\n",
      "Temprature:  2 \n",
      "\n",
      "This weekend I will be travelling to  a charming Canadian town for a quiet weekend full of beautiful sights and delicious local food.\n",
      "This weekend I will be travelling to a charming coastal town to sample local cuisine and explore the beaches.\n",
      "This weekend I will be travelling to a charming seaside village soaking in the sun.\n",
      "\n",
      "\n"
     ]
    }
   ],
   "source": [
    "for i in temp_vals:\n",
    "    print(\"Temprature: \", str(i), \"\\n\")\n",
    "    \n",
    "    for j in range(0, 3):\n",
    "        print(prompt+ check_output(sys, prompt, i))\n",
    "    print(\"\\n\")"
   ]
  },
  {
   "cell_type": "code",
   "execution_count": null,
   "metadata": {},
   "outputs": [],
   "source": []
  }
 ],
 "metadata": {
  "kernelspec": {
   "display_name": "openai",
   "language": "python",
   "name": "python3"
  },
  "language_info": {
   "codemirror_mode": {
    "name": "ipython",
    "version": 3
   },
   "file_extension": ".py",
   "mimetype": "text/x-python",
   "name": "python",
   "nbconvert_exporter": "python",
   "pygments_lexer": "ipython3",
   "version": "3.10.14"
  }
 },
 "nbformat": 4,
 "nbformat_minor": 2
}
