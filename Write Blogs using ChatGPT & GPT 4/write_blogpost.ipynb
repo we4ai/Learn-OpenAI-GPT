{
 "cells": [
  {
   "cell_type": "code",
   "execution_count": 1,
   "metadata": {},
   "outputs": [],
   "source": [
    "%load_ext autoreload\n",
    "%autoreload 2"
   ]
  },
  {
   "cell_type": "code",
   "execution_count": 2,
   "metadata": {},
   "outputs": [],
   "source": [
    "import os\n",
    "from os.path import join, dirname\n",
    "from dotenv import load_dotenv\n",
    "\n",
    "dotenv_path = join('.env')\n",
    "load_dotenv(dotenv_path)\n",
    "\n",
    "from openai import OpenAI\n",
    "OPENAI_API_KEY = os.environ.get(\"key\")\n",
    "client = OpenAI(api_key=OPENAI_API_KEY)"
   ]
  },
  {
   "cell_type": "markdown",
   "metadata": {},
   "source": [
    "## Types of Libraries:\n",
    "1. ChatCompletions\n",
    "2. Embeddings\n",
    "3. Images\n",
    "4. Speech etc\n",
    "\n",
    "### GPT Models:\n",
    "We can look for the models that are available on OpenAI on this [page](https://platform.openai.com/docs/models/)\n",
    "I will be using `gpt-3.5-turbo` for this tutorial"
   ]
  },
  {
   "cell_type": "code",
   "execution_count": 5,
   "metadata": {},
   "outputs": [],
   "source": [
    "completion = client.chat.completions.create(\n",
    "  model=\"gpt-3.5-turbo\",\n",
    "  messages=[\n",
    "    {\"role\": \"system\", \"content\": \"You are an SEO expert and content writer. Your objective is to bring more viewers for the content that you write for your company\"},\n",
    "    {\"role\": \"user\", \n",
    "     \"content\": \"I am building a brand on Sports shoes. We have designed a lightweight and trendy sport shoe for females. \\\n",
    "     I would like to write a blog post in 500-700 words featuring some of the good traits about our new shoe. The article name of this shoe is 'furry'.\"}\n",
    "  ]\n",
    ")\n"
   ]
  },
  {
   "cell_type": "code",
   "execution_count": 9,
   "metadata": {},
   "outputs": [
    {
     "name": "stdout",
     "output_type": "stream",
     "text": [
      "Title: Embrace Comfort and Style with \"Furry\" - The Ultimate Lightweight Sport Shoe for Females\n",
      "\n",
      "Are you tired of sacrificing style for comfort when it comes to your sport shoes? Look no further, because we have the perfect solution for you - introducing \"Furry\", the latest addition to our collection of lightweight and trendy sport shoes designed specifically for females.\n",
      "\n",
      "1. Lightweight Design:\n",
      "One of the standout features of \"Furry\" is its lightweight design. Say goodbye to clunky, heavy sport shoes that weigh you down during your workouts. \"Furry\" has been crafted using cutting-edge materials that provide the perfect balance of support and agility, making it the ideal choice for all your athletic endeavors.\n",
      "\n",
      "2. Superior Comfort:\n",
      "Comfort is key when it comes to sport shoes, and \"Furry\" does not disappoint. The plush cushioning and ergonomic design ensure a snug and supportive fit, giving you the confidence to push yourself to new limits without any discomfort. Whether you're hitting the gym or going for a run, \"Furry\" will have your back every step of the way.\n",
      "\n",
      "3. Trendy Style:\n",
      "Who says you have to sacrifice style for functionality? With \"Furry\", you can have the best of both worlds. The sleek and trendy design of these shoes will make heads turn wherever you go. Whether you're pairing them with your workout gear or incorporating them into your everyday casual looks, \"Furry\" is sure to elevate your style game.\n",
      "\n",
      "4. Versatility:\n",
      "\"Furry\" is not just limited to the gym. These versatile sport shoes can seamlessly transition from your workout sessions to your everyday activities. Run errands, meet friends for coffee, or take a leisurely stroll in the park - \"Furry\" has got you covered, ensuring that you stay comfortable and stylish no matter what the day brings.\n",
      "\n",
      "In conclusion, \"Furry\" is more than just a sport shoe - it's a lifestyle essential for the modern woman who values comfort, style, and performance. Experience the perfect blend of form and function with \"Furry\" and step up your footwear game today.\n",
      "\n",
      "So why wait? Embrace comfort and style with \"Furry\" and redefine your athletic footwear experience. Try them out for yourself and discover why these lightweight and trendy sport shoes are a game-changer for females everywhere.\n"
     ]
    }
   ],
   "source": [
    "print(completion.choices[0].message.content)"
   ]
  },
  {
   "cell_type": "code",
   "execution_count": null,
   "metadata": {},
   "outputs": [],
   "source": []
  },
  {
   "cell_type": "markdown",
   "metadata": {},
   "source": [
    "### Parameters:\n",
    "1. model\n",
    "2. messages\n",
    "3. max_tokens\n",
    "4. seed\n",
    " "
   ]
  },
  {
   "cell_type": "code",
   "execution_count": 10,
   "metadata": {},
   "outputs": [
    {
     "name": "stdout",
     "output_type": "stream",
     "text": [
      "\u001b[1;31mSignature:\u001b[0m\n",
      "\u001b[0mclient\u001b[0m\u001b[1;33m.\u001b[0m\u001b[0mchat\u001b[0m\u001b[1;33m.\u001b[0m\u001b[0mcompletions\u001b[0m\u001b[1;33m.\u001b[0m\u001b[0mcreate\u001b[0m\u001b[1;33m(\u001b[0m\u001b[1;33m\n",
      "\u001b[0m    \u001b[1;33m*\u001b[0m\u001b[1;33m,\u001b[0m\u001b[1;33m\n",
      "\u001b[0m    \u001b[0mmessages\u001b[0m\u001b[1;33m:\u001b[0m \u001b[1;34m'Iterable[ChatCompletionMessageParam]'\u001b[0m\u001b[1;33m,\u001b[0m\u001b[1;33m\n",
      "\u001b[0m    \u001b[0mmodel\u001b[0m\u001b[1;33m:\u001b[0m \u001b[1;34m'Union[str, ChatModel]'\u001b[0m\u001b[1;33m,\u001b[0m\u001b[1;33m\n",
      "\u001b[0m    \u001b[0mfrequency_penalty\u001b[0m\u001b[1;33m:\u001b[0m \u001b[1;34m'Optional[float] | NotGiven'\u001b[0m \u001b[1;33m=\u001b[0m \u001b[0mNOT_GIVEN\u001b[0m\u001b[1;33m,\u001b[0m\u001b[1;33m\n",
      "\u001b[0m    \u001b[0mfunction_call\u001b[0m\u001b[1;33m:\u001b[0m \u001b[1;34m'completion_create_params.FunctionCall | NotGiven'\u001b[0m \u001b[1;33m=\u001b[0m \u001b[0mNOT_GIVEN\u001b[0m\u001b[1;33m,\u001b[0m\u001b[1;33m\n",
      "\u001b[0m    \u001b[0mfunctions\u001b[0m\u001b[1;33m:\u001b[0m \u001b[1;34m'Iterable[completion_create_params.Function] | NotGiven'\u001b[0m \u001b[1;33m=\u001b[0m \u001b[0mNOT_GIVEN\u001b[0m\u001b[1;33m,\u001b[0m\u001b[1;33m\n",
      "\u001b[0m    \u001b[0mlogit_bias\u001b[0m\u001b[1;33m:\u001b[0m \u001b[1;34m'Optional[Dict[str, int]] | NotGiven'\u001b[0m \u001b[1;33m=\u001b[0m \u001b[0mNOT_GIVEN\u001b[0m\u001b[1;33m,\u001b[0m\u001b[1;33m\n",
      "\u001b[0m    \u001b[0mlogprobs\u001b[0m\u001b[1;33m:\u001b[0m \u001b[1;34m'Optional[bool] | NotGiven'\u001b[0m \u001b[1;33m=\u001b[0m \u001b[0mNOT_GIVEN\u001b[0m\u001b[1;33m,\u001b[0m\u001b[1;33m\n",
      "\u001b[0m    \u001b[0mmax_tokens\u001b[0m\u001b[1;33m:\u001b[0m \u001b[1;34m'Optional[int] | NotGiven'\u001b[0m \u001b[1;33m=\u001b[0m \u001b[0mNOT_GIVEN\u001b[0m\u001b[1;33m,\u001b[0m\u001b[1;33m\n",
      "\u001b[0m    \u001b[0mn\u001b[0m\u001b[1;33m:\u001b[0m \u001b[1;34m'Optional[int] | NotGiven'\u001b[0m \u001b[1;33m=\u001b[0m \u001b[0mNOT_GIVEN\u001b[0m\u001b[1;33m,\u001b[0m\u001b[1;33m\n",
      "\u001b[0m    \u001b[0mpresence_penalty\u001b[0m\u001b[1;33m:\u001b[0m \u001b[1;34m'Optional[float] | NotGiven'\u001b[0m \u001b[1;33m=\u001b[0m \u001b[0mNOT_GIVEN\u001b[0m\u001b[1;33m,\u001b[0m\u001b[1;33m\n",
      "\u001b[0m    \u001b[0mresponse_format\u001b[0m\u001b[1;33m:\u001b[0m \u001b[1;34m'completion_create_params.ResponseFormat | NotGiven'\u001b[0m \u001b[1;33m=\u001b[0m \u001b[0mNOT_GIVEN\u001b[0m\u001b[1;33m,\u001b[0m\u001b[1;33m\n",
      "\u001b[0m    \u001b[0mseed\u001b[0m\u001b[1;33m:\u001b[0m \u001b[1;34m'Optional[int] | NotGiven'\u001b[0m \u001b[1;33m=\u001b[0m \u001b[0mNOT_GIVEN\u001b[0m\u001b[1;33m,\u001b[0m\u001b[1;33m\n",
      "\u001b[0m    \u001b[0mstop\u001b[0m\u001b[1;33m:\u001b[0m \u001b[1;34m'Union[Optional[str], List[str]] | NotGiven'\u001b[0m \u001b[1;33m=\u001b[0m \u001b[0mNOT_GIVEN\u001b[0m\u001b[1;33m,\u001b[0m\u001b[1;33m\n",
      "\u001b[0m    \u001b[0mstream\u001b[0m\u001b[1;33m:\u001b[0m \u001b[1;34m'Optional[Literal[False]] | Literal[True] | NotGiven'\u001b[0m \u001b[1;33m=\u001b[0m \u001b[0mNOT_GIVEN\u001b[0m\u001b[1;33m,\u001b[0m\u001b[1;33m\n",
      "\u001b[0m    \u001b[0mtemperature\u001b[0m\u001b[1;33m:\u001b[0m \u001b[1;34m'Optional[float] | NotGiven'\u001b[0m \u001b[1;33m=\u001b[0m \u001b[0mNOT_GIVEN\u001b[0m\u001b[1;33m,\u001b[0m\u001b[1;33m\n",
      "\u001b[0m    \u001b[0mtool_choice\u001b[0m\u001b[1;33m:\u001b[0m \u001b[1;34m'ChatCompletionToolChoiceOptionParam | NotGiven'\u001b[0m \u001b[1;33m=\u001b[0m \u001b[0mNOT_GIVEN\u001b[0m\u001b[1;33m,\u001b[0m\u001b[1;33m\n",
      "\u001b[0m    \u001b[0mtools\u001b[0m\u001b[1;33m:\u001b[0m \u001b[1;34m'Iterable[ChatCompletionToolParam] | NotGiven'\u001b[0m \u001b[1;33m=\u001b[0m \u001b[0mNOT_GIVEN\u001b[0m\u001b[1;33m,\u001b[0m\u001b[1;33m\n",
      "\u001b[0m    \u001b[0mtop_logprobs\u001b[0m\u001b[1;33m:\u001b[0m \u001b[1;34m'Optional[int] | NotGiven'\u001b[0m \u001b[1;33m=\u001b[0m \u001b[0mNOT_GIVEN\u001b[0m\u001b[1;33m,\u001b[0m\u001b[1;33m\n",
      "\u001b[0m    \u001b[0mtop_p\u001b[0m\u001b[1;33m:\u001b[0m \u001b[1;34m'Optional[float] | NotGiven'\u001b[0m \u001b[1;33m=\u001b[0m \u001b[0mNOT_GIVEN\u001b[0m\u001b[1;33m,\u001b[0m\u001b[1;33m\n",
      "\u001b[0m    \u001b[0muser\u001b[0m\u001b[1;33m:\u001b[0m \u001b[1;34m'str | NotGiven'\u001b[0m \u001b[1;33m=\u001b[0m \u001b[0mNOT_GIVEN\u001b[0m\u001b[1;33m,\u001b[0m\u001b[1;33m\n",
      "\u001b[0m    \u001b[0mextra_headers\u001b[0m\u001b[1;33m:\u001b[0m \u001b[1;34m'Headers | None'\u001b[0m \u001b[1;33m=\u001b[0m \u001b[1;32mNone\u001b[0m\u001b[1;33m,\u001b[0m\u001b[1;33m\n",
      "\u001b[0m    \u001b[0mextra_query\u001b[0m\u001b[1;33m:\u001b[0m \u001b[1;34m'Query | None'\u001b[0m \u001b[1;33m=\u001b[0m \u001b[1;32mNone\u001b[0m\u001b[1;33m,\u001b[0m\u001b[1;33m\n",
      "\u001b[0m    \u001b[0mextra_body\u001b[0m\u001b[1;33m:\u001b[0m \u001b[1;34m'Body | None'\u001b[0m \u001b[1;33m=\u001b[0m \u001b[1;32mNone\u001b[0m\u001b[1;33m,\u001b[0m\u001b[1;33m\n",
      "\u001b[0m    \u001b[0mtimeout\u001b[0m\u001b[1;33m:\u001b[0m \u001b[1;34m'float | httpx.Timeout | None | NotGiven'\u001b[0m \u001b[1;33m=\u001b[0m \u001b[0mNOT_GIVEN\u001b[0m\u001b[1;33m,\u001b[0m\u001b[1;33m\n",
      "\u001b[0m\u001b[1;33m)\u001b[0m \u001b[1;33m->\u001b[0m \u001b[1;34m'ChatCompletion | Stream[ChatCompletionChunk]'\u001b[0m\u001b[1;33m\u001b[0m\u001b[1;33m\u001b[0m\u001b[0m\n",
      "\u001b[1;31mDocstring:\u001b[0m <no docstring>\n",
      "\u001b[1;31mFile:\u001b[0m      c:\\users\\thedayhascome\\anaconda3\\envs\\openai\\lib\\site-packages\\openai\\resources\\chat\\completions.py\n",
      "\u001b[1;31mType:\u001b[0m      method"
     ]
    }
   ],
   "source": [
    "client.chat.completions.create?"
   ]
  },
  {
   "cell_type": "code",
   "execution_count": null,
   "metadata": {},
   "outputs": [],
   "source": []
  }
 ],
 "metadata": {
  "kernelspec": {
   "display_name": "openai",
   "language": "python",
   "name": "python3"
  },
  "language_info": {
   "codemirror_mode": {
    "name": "ipython",
    "version": 3
   },
   "file_extension": ".py",
   "mimetype": "text/x-python",
   "name": "python",
   "nbconvert_exporter": "python",
   "pygments_lexer": "ipython3",
   "version": "3.10.14"
  }
 },
 "nbformat": 4,
 "nbformat_minor": 2
}
