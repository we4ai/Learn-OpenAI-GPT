{
 "cells": [
  {
   "cell_type": "code",
   "execution_count": 1,
   "metadata": {},
   "outputs": [],
   "source": [
    "%load_ext autoreload\n",
    "%autoreload 2"
   ]
  },
  {
   "cell_type": "code",
   "execution_count": 2,
   "metadata": {},
   "outputs": [],
   "source": [
    "import os\n",
    "from os.path import join, dirname\n",
    "from dotenv import load_dotenv\n",
    "\n",
    "dotenv_path = join('.env')\n",
    "load_dotenv(dotenv_path)\n",
    "\n",
    "from openai import OpenAI\n",
    "OPENAI_API_KEY = os.environ.get(\"key\")\n",
    "client = OpenAI(api_key=OPENAI_API_KEY)"
   ]
  },
  {
   "cell_type": "markdown",
   "metadata": {},
   "source": [
    "## Types of Libraries:\n",
    "1. ChatCompletions\n",
    "2. Embeddings\n",
    "3. Images\n",
    "4. Speech etc\n",
    "5. Completions\n",
    "\n",
    "### GPT Models:\n",
    "We can look for the models that are available on OpenAI on this [page](https://platform.openai.com/docs/models/)\n",
    "I will be using `gpt-3.5-turbo` for this tutorial"
   ]
  },
  {
   "cell_type": "code",
   "execution_count": 11,
   "metadata": {},
   "outputs": [],
   "source": [
    "sys_content = \"\"\"\n",
    "You are an SEO expert and content writer. Your objective is to bring more viewers for the content that you write for your company\n",
    "\"\"\"\n",
    "\n",
    "content= \"\"\"\n",
    "I am building a brand of Sports shoes. We have designed a lightweight and trendy sports shoe for females. \n",
    "I would like to write a blog post in 500-700 words featuring some of the good traits of our new shoe. The article name of this shoe is 'furry'.\n",
    "\"\"\"\n",
    "\n",
    "completion = client.chat.completions.create(\n",
    "  model=\"gpt-3.5-turbo\",\n",
    "  messages=[\n",
    "    {\"role\": \"system\", \"content\":sys_content},\n",
    "    {\"role\": \"user\"  , \"content\": content}\n",
    "  ]\n",
    ")\n"
   ]
  },
  {
   "cell_type": "code",
   "execution_count": 9,
   "metadata": {},
   "outputs": [
    {
     "name": "stdout",
     "output_type": "stream",
     "text": [
      "Title: Embrace Comfort and Style with \"Furry\" - The Ultimate Lightweight Sport Shoe for Females\n",
      "\n",
      "Are you tired of sacrificing style for comfort when it comes to your sport shoes? Look no further, because we have the perfect solution for you - introducing \"Furry\", the latest addition to our collection of lightweight and trendy sport shoes designed specifically for females.\n",
      "\n",
      "1. Lightweight Design:\n",
      "One of the standout features of \"Furry\" is its lightweight design. Say goodbye to clunky, heavy sport shoes that weigh you down during your workouts. \"Furry\" has been crafted using cutting-edge materials that provide the perfect balance of support and agility, making it the ideal choice for all your athletic endeavors.\n",
      "\n",
      "2. Superior Comfort:\n",
      "Comfort is key when it comes to sport shoes, and \"Furry\" does not disappoint. The plush cushioning and ergonomic design ensure a snug and supportive fit, giving you the confidence to push yourself to new limits without any discomfort. Whether you're hitting the gym or going for a run, \"Furry\" will have your back every step of the way.\n",
      "\n",
      "3. Trendy Style:\n",
      "Who says you have to sacrifice style for functionality? With \"Furry\", you can have the best of both worlds. The sleek and trendy design of these shoes will make heads turn wherever you go. Whether you're pairing them with your workout gear or incorporating them into your everyday casual looks, \"Furry\" is sure to elevate your style game.\n",
      "\n",
      "4. Versatility:\n",
      "\"Furry\" is not just limited to the gym. These versatile sport shoes can seamlessly transition from your workout sessions to your everyday activities. Run errands, meet friends for coffee, or take a leisurely stroll in the park - \"Furry\" has got you covered, ensuring that you stay comfortable and stylish no matter what the day brings.\n",
      "\n",
      "In conclusion, \"Furry\" is more than just a sport shoe - it's a lifestyle essential for the modern woman who values comfort, style, and performance. Experience the perfect blend of form and function with \"Furry\" and step up your footwear game today.\n",
      "\n",
      "So why wait? Embrace comfort and style with \"Furry\" and redefine your athletic footwear experience. Try them out for yourself and discover why these lightweight and trendy sport shoes are a game-changer for females everywhere.\n"
     ]
    }
   ],
   "source": [
    "print(completion.choices[0].message.content)"
   ]
  },
  {
   "cell_type": "code",
   "execution_count": null,
   "metadata": {},
   "outputs": [],
   "source": []
  },
  {
   "cell_type": "markdown",
   "metadata": {},
   "source": [
    "### Parameters:\n",
    "1. model\n",
    "2. messages\n",
    "3. max_tokens\n",
    "4. seed\n",
    "5. temprature"
   ]
  },
  {
   "cell_type": "code",
   "execution_count": 13,
   "metadata": {},
   "outputs": [],
   "source": [
    "!conda list --export >environment.yml"
   ]
  },
  {
   "cell_type": "code",
   "execution_count": null,
   "metadata": {},
   "outputs": [],
   "source": []
  }
 ],
 "metadata": {
  "kernelspec": {
   "display_name": "openai",
   "language": "python",
   "name": "python3"
  },
  "language_info": {
   "codemirror_mode": {
    "name": "ipython",
    "version": 3
   },
   "file_extension": ".py",
   "mimetype": "text/x-python",
   "name": "python",
   "nbconvert_exporter": "python",
   "pygments_lexer": "ipython3",
   "version": "3.10.14"
  }
 },
 "nbformat": 4,
 "nbformat_minor": 2
}
