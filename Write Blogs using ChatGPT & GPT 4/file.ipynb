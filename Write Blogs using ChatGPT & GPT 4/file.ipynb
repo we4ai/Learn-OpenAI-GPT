{
 "cells": [
  {
   "cell_type": "markdown",
   "metadata": {},
   "source": [
    "# AI Blog Writer"
   ]
  },
  {
   "cell_type": "code",
   "execution_count": 3,
   "metadata": {},
   "outputs": [],
   "source": [
    "import os\n",
    "from dotenv import load_dotenv\n",
    "load_dotenv('.env')\n",
    "\n",
    "openai_key = os.environ.get('key')\n",
    "from openai import OpenAI\n",
    "client = OpenAI(api_key = openai_key)"
   ]
  },
  {
   "cell_type": "markdown",
   "metadata": {},
   "source": [
    "1. ChatCompletions\n",
    "    System,  User, Assistant\n",
    "2. Embeddings\n",
    "3. Images\n",
    "4. Speech\n",
    "5. Completions\n",
    "\n",
    "## Model types\n",
    "1. GPT 3.5\n",
    "2. GPT 4"
   ]
  },
  {
   "cell_type": "code",
   "execution_count": 4,
   "metadata": {},
   "outputs": [],
   "source": [
    "sys_content = \"\"\"\n",
    "You are an SEO expert and content writer.\n",
    "Your objective is to bring more viewers for the content you write for your company.\n",
    "\"\"\"\n",
    "\n",
    "content = \"\"\"\n",
    "I am building a brand of Sports shoes for women.  We have designed a lightweight and trendy sports shoe for female customers.\n",
    "I want you to generate a nice blog post in around 1000 words featuring some of the traits of the shoes that we have manufactured.\n",
    "\"\"\""
   ]
  },
  {
   "cell_type": "code",
   "execution_count": 8,
   "metadata": {},
   "outputs": [],
   "source": [
    "completion = client.chat.completions.create(\n",
    "    model = 'gpt-3.5-turbo',\n",
    "    messages = [\n",
    "        {'role': \"system\", 'content': sys_content},\n",
    "        {'role': \"user\", 'content': content},\n",
    "    ],\n",
    "    seed= 100\n",
    ")"
   ]
  },
  {
   "cell_type": "code",
   "execution_count": 10,
   "metadata": {},
   "outputs": [
    {
     "name": "stdout",
     "output_type": "stream",
     "text": [
      "Title: Elevate Your Workouts with Our Stylish and Lightweight Women's Sports Shoes\n",
      "\n",
      "In the fast-paced world of fitness and athletics, having the right gear can make all the difference in achieving your goals. At [Your Brand Name], we understand the importance of quality footwear in enhancing performance and comfort during workouts. That's why we are excited to introduce our latest innovation – a range of stylish and lightweight sports shoes designed specifically for active women.\n",
      "\n",
      "Crafted with precision and attention to detail, our sports shoes are the perfect blend of style and functionality. Here are some key features that set our shoes apart from the rest:\n",
      "\n",
      "1. Lightweight Design: One of the standout features of our sports shoes is their lightweight construction. We have used advanced materials and innovative techniques to create shoes that are incredibly light on your feet. This not only reduces fatigue during workouts but also allows for greater agility and speed.\n",
      "\n",
      "2. Breathable Material: To ensure maximum comfort, our sports shoes are made from breathable materials that wick away moisture and keep your feet cool and dry. This makes them ideal for long training sessions or intense workouts, allowing you to focus on your performance without any distractions.\n",
      "\n",
      "3. Stylish and Trendy: Who says sports shoes can't be fashionable? Our designs are carefully curated to reflect the latest trends in athletic footwear, so you can make a statement while hitting the gym or the streets. Whether you prefer vibrant colors or subtle tones, our collection has something for every style preference.\n",
      "\n",
      "4. Superior Cushioning: We understand the importance of proper cushioning in sports shoes to prevent injuries and provide optimal support. That's why our shoes feature enhanced cushioning technology that absorbs impact and provides a comfortable and stable platform for your feet.\n",
      "\n",
      "5. Versatile Performance: Our sports shoes are designed to cater to a variety of activities, from running and training to casual wear. Whether you're hitting the treadmill, attending a fitness class, or simply running errands, our shoes offer the versatility and performance you need to stay active and comfortable throughout the day.\n",
      "\n",
      "6. Durability: We believe that quality should never be compromised, which is why our sports shoes are built to last. From the reinforced outsoles to the sturdy stitching, every aspect of our shoes is crafted with durability in mind, ensuring that they can withstand the rigors of daily wear and tear.\n",
      "\n",
      "In conclusion, our women's sports shoes are more than just footwear – they are a statement of style, performance, and quality. With their lightweight design, breathable materials, trendy aesthetics, superior cushioning, versatile performance, and durability, these shoes are an essential addition to any active woman's wardrobe.\n",
      "\n",
      "Elevate your workouts and stand out from the crowd with our stylish and lightweight sports shoes from [Your Brand Name]. Experience the perfect fusion of fashion and function in every step you take.\n"
     ]
    }
   ],
   "source": [
    "print(completion.choices[0].message.content)"
   ]
  },
  {
   "cell_type": "markdown",
   "metadata": {},
   "source": [
    "# Parameters:"
   ]
  },
  {
   "cell_type": "markdown",
   "metadata": {},
   "source": [
    "1. model \n",
    "2. messages\n",
    "3. max_tokens\n",
    "4. seed\n",
    "5. temprature 0, 1"
   ]
  }
 ],
 "metadata": {
  "kernelspec": {
   "display_name": "openai",
   "language": "python",
   "name": "python3"
  },
  "language_info": {
   "codemirror_mode": {
    "name": "ipython",
    "version": 3
   },
   "file_extension": ".py",
   "mimetype": "text/x-python",
   "name": "python",
   "nbconvert_exporter": "python",
   "pygments_lexer": "ipython3",
   "version": "3.10.14"
  }
 },
 "nbformat": 4,
 "nbformat_minor": 2
}
