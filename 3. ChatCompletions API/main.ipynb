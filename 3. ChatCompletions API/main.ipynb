{
 "cells": [
  {
   "cell_type": "code",
   "execution_count": 1,
   "metadata": {},
   "outputs": [],
   "source": [
    "import os\n",
    "from dotenv import load_dotenv\n",
    "load_dotenv('.env')\n",
    "\n",
    "from openai import OpenAI\n",
    "client = OpenAI(api_key = os.environ.get('key'))\n"
   ]
  },
  {
   "cell_type": "code",
   "execution_count": 2,
   "metadata": {},
   "outputs": [],
   "source": [
    "response = client.chat.completions.create(\n",
    "  model=\"gpt-3.5-turbo\",\n",
    "  messages=[\n",
    "    {\"role\": \"system\", \"content\": \"You are a doctor.\"},\n",
    "    {\"role\": \"user\", \"content\": \"Do you have a specialization?\"},\n",
    "    {\"role\": \"assistant\", \"content\": \"Yeah, I am an orthopedic doctor.\"},\n",
    "    {\"role\": \"user\", \"content\": \"\"\"\n",
    "     I went for swimming and there's backpain. Why is it paining?\n",
    "     What should I do?\n",
    "     \"\"\"}\n",
    "  ]\n",
    ")\n"
   ]
  },
  {
   "cell_type": "code",
   "execution_count": 8,
   "metadata": {},
   "outputs": [
    {
     "name": "stdout",
     "output_type": "stream",
     "text": [
      "Swimming is generally a good form of exercise, but back pain can occur if you have poor technique, overuse specific muscles, or have underlying back issues. It's important to rest and avoid activities that exacerbate the pain. You can also try gentle stretching, applying heat or ice packs, and taking over-the-counter pain medications if needed. If the pain persists or worsens, it's best to consult with a healthcare professional for a proper evaluation and treatment plan.\n"
     ]
    }
   ],
   "source": [
    "print(response.choices[0].message.content)\n"
   ]
  },
  {
   "cell_type": "code",
   "execution_count": 6,
   "metadata": {},
   "outputs": [],
   "source": [
    "yoga_teacher = client.chat.completions.create(\n",
    "  model=\"gpt-3.5-turbo\",\n",
    "  messages=[\n",
    "    {\"role\": \"system\", \"content\": \"You are a yoga expert.\"},\n",
    "    \n",
    "    {\"role\": \"user\", \"content\": \"\"\"\n",
    "     I went for swimming and there's backpain. Why is it paining?\n",
    "     What should I do?\n",
    "     \"\"\"}\n",
    "  ]\n",
    ")"
   ]
  },
  {
   "cell_type": "code",
   "execution_count": 7,
   "metadata": {},
   "outputs": [
    {
     "name": "stdout",
     "output_type": "stream",
     "text": [
      "It's common to experience back pain after swimming, especially if you're not used to the movements or if you pushed yourself too hard during your session. Here are a few reasons why your back may be hurting and some tips on what you can do to relieve the pain:\n",
      "\n",
      "1. Improper swimming technique: If your back muscles were strained due to improper technique, it can lead to back pain. Make sure you are engaging your core muscles, keeping your spine aligned, and using proper stroke techniques to reduce the strain on your back.\n",
      "\n",
      "2. Overuse or muscle fatigue: Swimming involves using many muscle groups, and if you overdid it or pushed yourself too hard, it can lead to muscle fatigue and soreness. Make sure to gradually increase your intensity and duration to avoid overuse injuries.\n",
      "\n",
      "3. Tight muscles: Swimming can sometimes cause tightness in the muscles, especially in the shoulders, back, and hips, leading to discomfort and pain. Consider incorporating stretching exercises for the back and hips to help relieve tension and improve flexibility.\n",
      "\n",
      "4. Poor posture: Poor posture while swimming or during other activities can contribute to back pain. Pay attention to your posture both in and out of the water and practice good alignment to prevent strain on your back.\n",
      "\n",
      "To help relieve back pain after swimming, you can try the following remedies:\n",
      "\n",
      "- Rest and allow your muscles to recover.\n",
      "- Apply ice or a cold pack to the affected area to reduce inflammation and numb the pain.\n",
      "- Take a warm bath or use a heating pad to relax tight muscles.\n",
      "- Gentle stretching exercises or yoga poses can help improve flexibility and relieve tension in the back.\n",
      "- Consider seeing a healthcare provider or physical therapist for further evaluation and recommendations.\n",
      "\n",
      "Remember to listen to your body, avoid activities that worsen the pain, and gradually ease back into swimming once your back feels better. If the pain persists or worsens, seek medical advice for proper diagnosis and treatment.\n"
     ]
    }
   ],
   "source": [
    "print(yoga_teacher.choices[0].message.content)"
   ]
  },
  {
   "cell_type": "code",
   "execution_count": null,
   "metadata": {},
   "outputs": [],
   "source": []
  }
 ],
 "metadata": {
  "kernelspec": {
   "display_name": "openai",
   "language": "python",
   "name": "python3"
  },
  "language_info": {
   "codemirror_mode": {
    "name": "ipython",
    "version": 3
   },
   "file_extension": ".py",
   "mimetype": "text/x-python",
   "name": "python",
   "nbconvert_exporter": "python",
   "pygments_lexer": "ipython3",
   "version": "3.10.14"
  }
 },
 "nbformat": 4,
 "nbformat_minor": 2
}
